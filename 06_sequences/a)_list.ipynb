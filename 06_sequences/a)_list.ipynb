{
 "cells": [
  {
   "cell_type": "markdown",
   "id": "2bffa1e9",
   "metadata": {},
   "source": [
    "##### create a list"
   ]
  },
  {
   "cell_type": "code",
   "execution_count": 1,
   "id": "fa4b1f67",
   "metadata": {},
   "outputs": [],
   "source": [
    "tv_shows = [\"antikrundan\", \"mästerkocken\", \"aktuellt\", \"talang\"]\n"
   ]
  },
  {
   "cell_type": "code",
   "execution_count": 3,
   "id": "19a370d0",
   "metadata": {},
   "outputs": [
    {
     "data": {
      "text/plain": [
       "'aktuellt'"
      ]
     },
     "execution_count": 3,
     "metadata": {},
     "output_type": "execute_result"
    }
   ],
   "source": [
    "tv_shows [2]"
   ]
  },
  {
   "cell_type": "code",
   "execution_count": 4,
   "id": "082cafb6",
   "metadata": {},
   "outputs": [
    {
     "name": "stdout",
     "output_type": "stream",
     "text": [
      "antikrundan\n",
      "mästerkocken\n",
      "aktuellt\n",
      "talang\n"
     ]
    }
   ],
   "source": [
    "for tv_shows in tv_shows:\n",
    "    print(tv_shows)"
   ]
  }
 ],
 "metadata": {
  "kernelspec": {
   "display_name": "Python 3",
   "language": "python",
   "name": "python3"
  },
  "language_info": {
   "codemirror_mode": {
    "name": "ipython",
    "version": 3
   },
   "file_extension": ".py",
   "mimetype": "text/x-python",
   "name": "python",
   "nbconvert_exporter": "python",
   "pygments_lexer": "ipython3",
   "version": "3.12.10"
  }
 },
 "nbformat": 4,
 "nbformat_minor": 5
}
