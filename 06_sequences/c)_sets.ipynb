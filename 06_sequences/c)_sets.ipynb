{
 "cells": [
  {
   "cell_type": "markdown",
   "id": "d20d68bc",
   "metadata": {},
   "source": [
    "#### lecture 6c - set\n",
    "- object for those working with mathematical sets"
   ]
  },
  {
   "cell_type": "markdown",
   "id": "65d9c587",
   "metadata": {},
   "source": [
    "Create a set"
   ]
  },
  {
   "cell_type": "code",
   "execution_count": 3,
   "id": "8951f2d5",
   "metadata": {},
   "outputs": [
    {
     "ename": "SyntaxError",
     "evalue": "unterminated string literal (detected at line 2) (840247425.py, line 2)",
     "output_type": "error",
     "traceback": [
      "  \u001b[36mCell\u001b[39m\u001b[36m \u001b[39m\u001b[32mIn[3]\u001b[39m\u001b[32m, line 2\u001b[39m\n\u001b[31m    \u001b[39m\u001b[31memails = [\"anna@example.com\", \"bobo@example.com\", \"anaghab@example.com\", anaboba@example.com\"]\u001b[39m\n                                                                                                ^\n\u001b[31mSyntaxError\u001b[39m\u001b[31m:\u001b[39m unterminated string literal (detected at line 2)\n"
     ]
    }
   ],
   "source": [
    "# create a list of emails with duplicates\n",
    "emails = [\"anna@example.com\", \"bobo@example.com\", \"anaghab@example.com\", anaboba@example.com\"]"
   ]
  }
 ],
 "metadata": {
  "kernelspec": {
   "display_name": "Python 3",
   "language": "python",
   "name": "python3"
  },
  "language_info": {
   "codemirror_mode": {
    "name": "ipython",
    "version": 3
   },
   "file_extension": ".py",
   "mimetype": "text/x-python",
   "name": "python",
   "nbconvert_exporter": "python",
   "pygments_lexer": "ipython3",
   "version": "3.12.10"
  }
 },
 "nbformat": 4,
 "nbformat_minor": 5
}
