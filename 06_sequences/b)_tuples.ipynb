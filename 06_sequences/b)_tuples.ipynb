{
 "cells": [
  {
   "cell_type": "markdown",
   "id": "a9adb446",
   "metadata": {},
   "source": [
    "##### lecture 6b - tuples\n",
    "- less flexible than list\n",
    "- but better performance in list\n"
   ]
  },
  {
   "cell_type": "markdown",
   "id": "0b3587c0",
   "metadata": {},
   "source": [
    "##### create tuple"
   ]
  },
  {
   "cell_type": "code",
   "execution_count": 3,
   "id": "23317d34",
   "metadata": {},
   "outputs": [],
   "source": [
    "fruits = (\"apple\", \"orange\", \"strawberry\")\n"
   ]
  },
  {
   "cell_type": "markdown",
   "id": "9cbcdbc4",
   "metadata": {},
   "source": [
    "##### access an item (indexing)"
   ]
  },
  {
   "cell_type": "code",
   "execution_count": 4,
   "id": "9755f8d2",
   "metadata": {},
   "outputs": [
    {
     "data": {
      "text/plain": [
       "'apple'"
      ]
     },
     "execution_count": 4,
     "metadata": {},
     "output_type": "execute_result"
    }
   ],
   "source": [
    "fruits[0]"
   ]
  },
  {
   "cell_type": "markdown",
   "id": "5620c8ea",
   "metadata": {},
   "source": [
    "##### accessing multiple items (slicing)"
   ]
  },
  {
   "cell_type": "code",
   "execution_count": 6,
   "id": "5f269cc3",
   "metadata": {},
   "outputs": [
    {
     "data": {
      "text/plain": [
       "('apple', 'orange')"
      ]
     },
     "execution_count": 6,
     "metadata": {},
     "output_type": "execute_result"
    }
   ],
   "source": [
    "fruits[0:2]"
   ]
  },
  {
   "cell_type": "markdown",
   "id": "7d220ec2",
   "metadata": {},
   "source": [
    "##### Cannot change the value of an item of a tuple"
   ]
  },
  {
   "cell_type": "code",
   "execution_count": 7,
   "id": "19c7fbc7",
   "metadata": {},
   "outputs": [
    {
     "ename": "TypeError",
     "evalue": "'tuple' object does not support item assignment",
     "output_type": "error",
     "traceback": [
      "\u001b[31m---------------------------------------------------------------------------\u001b[39m",
      "\u001b[31mTypeError\u001b[39m                                 Traceback (most recent call last)",
      "\u001b[36mCell\u001b[39m\u001b[36m \u001b[39m\u001b[32mIn[7]\u001b[39m\u001b[32m, line 1\u001b[39m\n\u001b[32m----> \u001b[39m\u001b[32m1\u001b[39m \u001b[43mfruits\u001b[49m\u001b[43m[\u001b[49m\u001b[32;43m0\u001b[39;49m\u001b[43m]\u001b[49m = \u001b[33m\"\u001b[39m\u001b[33mgrape\u001b[39m\u001b[33m\"\u001b[39m\n",
      "\u001b[31mTypeError\u001b[39m: 'tuple' object does not support item assignment"
     ]
    }
   ],
   "source": [
    "fruits[0] = \"grape\""
   ]
  }
 ],
 "metadata": {
  "kernelspec": {
   "display_name": "Python 3",
   "language": "python",
   "name": "python3"
  },
  "language_info": {
   "codemirror_mode": {
    "name": "ipython",
    "version": 3
   },
   "file_extension": ".py",
   "mimetype": "text/x-python",
   "name": "python",
   "nbconvert_exporter": "python",
   "pygments_lexer": "ipython3",
   "version": "3.12.10"
  }
 },
 "nbformat": 4,
 "nbformat_minor": 5
}
