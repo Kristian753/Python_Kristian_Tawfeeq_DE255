{
 "cells": [
  {
   "cell_type": "code",
   "execution_count": null,
   "id": "5dad0780",
   "metadata": {
    "vscode": {
     "languageId": "plaintext"
    }
   },
   "outputs": [],
   "source": [
    "print(input(\"Are you student or pensionär\"))"
   ]
  }
 ],
 "metadata": {
  "language_info": {
   "name": "python"
  }
 },
 "nbformat": 4,
 "nbformat_minor": 5
}
