{
 "cells": [
  {
   "cell_type": "code",
   "execution_count": 21,
   "id": "5dad0780",
   "metadata": {},
   "outputs": [
    {
     "name": "stdout",
     "output_type": "stream",
     "text": [
      "ditt pris är 50.0 kr\n"
     ]
    }
   ],
   "source": [
    "vem = (input(\"Are you student or pensionar\"))\n",
    "antal = float(input(\"How many apples do you want\"))\n",
    "apple = 10\n",
    "pensionar = (0.50)\n",
    "student = (0.70)\n",
    "\n",
    "if vem == \"student\":\n",
    "    print(F\"ditt pris är {student * antal * apple} kr\")\n",
    "\n",
    "elif vem == \"pensionar\":\n",
    "    print(F\"ditt pris är {pensionar * antal * apple} kr\")"
   ]
  }
 ],
 "metadata": {
  "kernelspec": {
   "display_name": "Python 3",
   "language": "python",
   "name": "python3"
  },
  "language_info": {
   "codemirror_mode": {
    "name": "ipython",
    "version": 3
   },
   "file_extension": ".py",
   "mimetype": "text/x-python",
   "name": "python",
   "nbconvert_exporter": "python",
   "pygments_lexer": "ipython3",
   "version": "3.12.10"
  }
 },
 "nbformat": 4,
 "nbformat_minor": 5
}
