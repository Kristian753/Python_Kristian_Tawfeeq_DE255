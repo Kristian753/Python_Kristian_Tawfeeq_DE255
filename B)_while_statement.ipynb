{
 "cells": [
  {
   "cell_type": "code",
   "execution_count": 3,
   "id": "ea864be9",
   "metadata": {},
   "outputs": [],
   "source": [
    "# initial values for the year and birds variables\n",
    "year = 0\n",
    "birds = 80000"
   ]
  },
  {
   "cell_type": "code",
   "execution_count": 4,
   "id": "73cd0e8d",
   "metadata": {},
   "outputs": [
    {
     "name": "stdout",
     "output_type": "stream",
     "text": [
      "currently, this year 0 and the number of birds is 80000\n",
      "at the end of year 0, the number birds decreases to 20000.0\n",
      "-----------------------\n",
      "it takes 1years for the number of birds to drops to 8000\n",
      "currently, this year 1 and the number of birds is 20000\n",
      "at the end of year 1, the number birds decreases to 5000.0\n",
      "-----------------------\n",
      "it takes 2years for the number of birds to drops to 8000\n"
     ]
    }
   ],
   "source": [
    "while birds > 8000: #provide a condition, not the number of looping times with the while statement\n",
    "     print (f\"currently, this year {year} and the number of birds is {birds:.0f}\")\n",
    "     birds = birds/2\n",
    "     birds /= 2 #use the assignment operator /= to simplify the code: the birds = birds/2\n",
    "     print(f\"at the end of year {year}, the number birds decreases to {birds}\")\n",
    "     print(\"-----------------------\")\n",
    "     year +=1\n",
    "     print (f\"it takes {year}years for the number of birds to drops to 8000\")\n",
    "     "
   ]
  }
 ],
 "metadata": {
  "kernelspec": {
   "display_name": "Python 3",
   "language": "python",
   "name": "python3"
  },
  "language_info": {
   "codemirror_mode": {
    "name": "ipython",
    "version": 3
   },
   "file_extension": ".py",
   "mimetype": "text/x-python",
   "name": "python",
   "nbconvert_exporter": "python",
   "pygments_lexer": "ipython3",
   "version": "3.12.10"
  }
 },
 "nbformat": 4,
 "nbformat_minor": 5
}
